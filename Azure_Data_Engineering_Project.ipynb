{
 "cells": [
  {
   "cell_type": "code",
   "execution_count": 0,
   "metadata": {
    "application/vnd.databricks.v1+cell": {
     "cellMetadata": {
      "byteLimit": 2048000,
      "rowLimit": 10000
     },
     "inputWidgets": {},
     "nuid": "e717041a-bf83-45e7-aa61-872958ba7b5e",
     "showTitle": true,
     "title": "Connect to blob storage from databrick"
    }
   },
   "outputs": [
    {
     "output_type": "stream",
     "name": "stdout",
     "output_type": "stream",
     "text": [
      "Out[2]: True"
     ]
    }
   ],
   "source": [
    "dbutils.fs.mount(\n",
    "            source = \"wasbs://inputd@ajokestorage01.blob.core.windows.net\",\n",
    "            mount_point = \"/mnt/raw\",\n",
    "            extra_configs = {\"fs.azure.account.key.ajokestorage01.blob.core.windows.net\":\"<include your key here>\"})"
   ]
  },
  {
   "cell_type": "code",
   "execution_count": 0,
   "metadata": {
    "application/vnd.databricks.v1+cell": {
     "cellMetadata": {
      "byteLimit": 2048000,
      "rowLimit": 10000
     },
     "inputWidgets": {},
     "nuid": "e0365807-634c-4fa2-a709-8d009d4a6f5f",
     "showTitle": false,
     "title": ""
    }
   },
   "outputs": [
    {
     "output_type": "stream",
     "name": "stdout",
     "output_type": "stream",
     "text": [
      "Out[4]: [FileInfo(path='dbfs:/mnt/raw/pizza_sales.csv', name='pizza_sales.csv', size=8859953, modificationTime=1716490781000)]"
     ]
    }
   ],
   "source": [
    "#Check folder and the data mounted from Azure blob storage\n",
    "dbutils.fs.ls(\"/mnt/raw\")"
   ]
  },
  {
   "cell_type": "code",
   "execution_count": 0,
   "metadata": {
    "application/vnd.databricks.v1+cell": {
     "cellMetadata": {
      "byteLimit": 2048000,
      "rowLimit": 10000
     },
     "inputWidgets": {},
     "nuid": "a8d09d83-4d7e-4b8d-9491-c5f5822b7b87",
     "showTitle": false,
     "title": ""
    }
   },
   "outputs": [],
   "source": [
    "#Create Dataframe\n",
    "df = spark.read.format(\"csv\").options(header='True', inferSchema= 'True').load('dbfs:/mnt/raw/pizza_sales.csv')"
   ]
  },
  {
   "cell_type": "code",
   "execution_count": 0,
   "metadata": {
    "application/vnd.databricks.v1+cell": {
     "cellMetadata": {
      "byteLimit": 2048000,
      "rowLimit": 10000
     },
     "inputWidgets": {},
     "nuid": "521fde06-2a0f-4bbe-a306-3ac4f90cf3a3",
     "showTitle": false,
     "title": ""
    }
   },
   "outputs": [
    {
     "output_type": "display_data",
     "data": {
      "text/html": [
       "<style scoped>\n",
       "  .table-result-container {\n",
       "    max-height: 300px;\n",
       "    overflow: auto;\n",
       "  }\n",
       "  table, th, td {\n",
       "    border: 1px solid black;\n",
       "    border-collapse: collapse;\n",
       "  }\n",
       "  th, td {\n",
       "    padding: 5px;\n",
       "  }\n",
       "  th {\n",
       "    text-align: left;\n",
       "  }\n",
       "</style><div class='table-result-container'><table class='table-result'><thead style='background-color: white'><tr><th>order_details_id</th><th>order_id</th><th>pizza_id</th><th>quantity</th><th>order_date</th><th>order_time</th><th>unit_price</th><th>total_price</th><th>pizza_size</th><th>pizza_category</th><th>pizza_ingredients</th><th>pizza_name</th></tr></thead><tbody><tr><td>1</td><td>1</td><td>hawaiian_m</td><td>1</td><td>2015-01-01</td><td>2024-05-27T11:38:36.000+0000</td><td>13.25</td><td>13.25</td><td>M</td><td>Classic</td><td>Sliced Ham, Pineapple, Mozzarella Cheese</td><td>The Hawaiian Pizza</td></tr><tr><td>2</td><td>2</td><td>classic_dlx_m</td><td>1</td><td>2015-01-01</td><td>2024-05-27T11:57:40.000+0000</td><td>16.0</td><td>16.0</td><td>M</td><td>Classic</td><td>Pepperoni, Mushrooms, Red Onions, Red Peppers, Bacon</td><td>The Classic Deluxe Pizza</td></tr><tr><td>3</td><td>2</td><td>five_cheese_l</td><td>1</td><td>2015-01-01</td><td>2024-05-27T11:57:40.000+0000</td><td>18.5</td><td>18.5</td><td>L</td><td>Veggie</td><td>Mozzarella Cheese, Provolone Cheese, Smoked Gouda Cheese, Romano Cheese, Blue Cheese, Garlic</td><td>The Five Cheese Pizza</td></tr><tr><td>4</td><td>2</td><td>ital_supr_l</td><td>1</td><td>2015-01-01</td><td>2024-05-27T11:57:40.000+0000</td><td>20.75</td><td>20.75</td><td>L</td><td>Supreme</td><td>Calabrese Salami, Capocollo, Tomatoes, Red Onions, Green Olives, Garlic</td><td>The Italian Supreme Pizza</td></tr><tr><td>5</td><td>2</td><td>mexicana_m</td><td>1</td><td>2015-01-01</td><td>2024-05-27T11:57:40.000+0000</td><td>16.0</td><td>16.0</td><td>M</td><td>Veggie</td><td>Tomatoes, Red Peppers, Jalapeno Peppers, Red Onions, Cilantro, Corn, Chipotle Sauce, Garlic</td><td>The Mexicana Pizza</td></tr></tbody></table></div>"
      ]
     },
     "metadata": {
      "application/vnd.databricks.v1+output": {
       "addedWidgets": {},
       "aggData": [],
       "aggError": "",
       "aggOverflow": false,
       "aggSchema": [],
       "aggSeriesLimitReached": false,
       "aggType": "",
       "arguments": {},
       "columnCustomDisplayInfos": {},
       "data": [
        [
         1,
         1,
         "hawaiian_m",
         1,
         "2015-01-01",
         "2024-05-27T11:38:36.000+0000",
         13.25,
         13.25,
         "M",
         "Classic",
         "Sliced Ham, Pineapple, Mozzarella Cheese",
         "The Hawaiian Pizza"
        ],
        [
         2,
         2,
         "classic_dlx_m",
         1,
         "2015-01-01",
         "2024-05-27T11:57:40.000+0000",
         16.0,
         16.0,
         "M",
         "Classic",
         "Pepperoni, Mushrooms, Red Onions, Red Peppers, Bacon",
         "The Classic Deluxe Pizza"
        ],
        [
         3,
         2,
         "five_cheese_l",
         1,
         "2015-01-01",
         "2024-05-27T11:57:40.000+0000",
         18.5,
         18.5,
         "L",
         "Veggie",
         "Mozzarella Cheese, Provolone Cheese, Smoked Gouda Cheese, Romano Cheese, Blue Cheese, Garlic",
         "The Five Cheese Pizza"
        ],
        [
         4,
         2,
         "ital_supr_l",
         1,
         "2015-01-01",
         "2024-05-27T11:57:40.000+0000",
         20.75,
         20.75,
         "L",
         "Supreme",
         "Calabrese Salami, Capocollo, Tomatoes, Red Onions, Green Olives, Garlic",
         "The Italian Supreme Pizza"
        ],
        [
         5,
         2,
         "mexicana_m",
         1,
         "2015-01-01",
         "2024-05-27T11:57:40.000+0000",
         16.0,
         16.0,
         "M",
         "Veggie",
         "Tomatoes, Red Peppers, Jalapeno Peppers, Red Onions, Cilantro, Corn, Chipotle Sauce, Garlic",
         "The Mexicana Pizza"
        ]
       ],
       "datasetInfos": [],
       "dbfsResultPath": null,
       "isJsonSchema": true,
       "metadata": {},
       "overflow": false,
       "plotOptions": {
        "customPlotOptions": {},
        "displayType": "table",
        "pivotAggregation": null,
        "pivotColumns": null,
        "xColumns": null,
        "yColumns": null
       },
       "removedWidgets": [],
       "schema": [
        {
         "metadata": "{}",
         "name": "order_details_id",
         "type": "\"integer\""
        },
        {
         "metadata": "{}",
         "name": "order_id",
         "type": "\"integer\""
        },
        {
         "metadata": "{}",
         "name": "pizza_id",
         "type": "\"string\""
        },
        {
         "metadata": "{}",
         "name": "quantity",
         "type": "\"integer\""
        },
        {
         "metadata": "{\"__detected_date_formats\":\"M/d/yyyy\"}",
         "name": "order_date",
         "type": "\"date\""
        },
        {
         "metadata": "{}",
         "name": "order_time",
         "type": "\"timestamp\""
        },
        {
         "metadata": "{}",
         "name": "unit_price",
         "type": "\"double\""
        },
        {
         "metadata": "{}",
         "name": "total_price",
         "type": "\"double\""
        },
        {
         "metadata": "{}",
         "name": "pizza_size",
         "type": "\"string\""
        },
        {
         "metadata": "{}",
         "name": "pizza_category",
         "type": "\"string\""
        },
        {
         "metadata": "{}",
         "name": "pizza_ingredients",
         "type": "\"string\""
        },
        {
         "metadata": "{}",
         "name": "pizza_name",
         "type": "\"string\""
        }
       ],
       "type": "table"
      }
     },
     "output_type": "display_data"
    }
   ],
   "source": [
    "#Show first 5 rows on dataframe\n",
    "display(df.limit(5))"
   ]
  },
  {
   "cell_type": "code",
   "execution_count": 0,
   "metadata": {
    "application/vnd.databricks.v1+cell": {
     "cellMetadata": {
      "byteLimit": 2048000,
      "rowLimit": 10000
     },
     "inputWidgets": {},
     "nuid": "9a290d85-0da8-4de0-8152-0b3bbc1232b1",
     "showTitle": false,
     "title": ""
    }
   },
   "outputs": [],
   "source": [
    "#Convert dataframe into View so as to run SQL table\n",
    "df.createOrReplaceTempView(\"pizza_sales_analysis\")"
   ]
  },
  {
   "cell_type": "code",
   "execution_count": 0,
   "metadata": {
    "application/vnd.databricks.v1+cell": {
     "cellMetadata": {
      "byteLimit": 2048000,
      "implicitDf": true,
      "rowLimit": 10000
     },
     "inputWidgets": {},
     "nuid": "f1dfce50-7626-43d7-ab81-b3c1357232b0",
     "showTitle": false,
     "title": ""
    }
   },
   "outputs": [
    {
     "output_type": "display_data",
     "data": {
      "text/html": [
       "<style scoped>\n",
       "  .table-result-container {\n",
       "    max-height: 300px;\n",
       "    overflow: auto;\n",
       "  }\n",
       "  table, th, td {\n",
       "    border: 1px solid black;\n",
       "    border-collapse: collapse;\n",
       "  }\n",
       "  th, td {\n",
       "    padding: 5px;\n",
       "  }\n",
       "  th {\n",
       "    text-align: left;\n",
       "  }\n",
       "</style><div class='table-result-container'><table class='table-result'><thead style='background-color: white'><tr><th>order_details_id</th><th>order_id</th><th>pizza_id</th><th>quantity</th><th>order_date</th><th>order_time</th><th>unit_price</th><th>total_price</th><th>pizza_size</th><th>pizza_category</th><th>pizza_ingredients</th><th>pizza_name</th></tr></thead><tbody><tr><td>1</td><td>1</td><td>hawaiian_m</td><td>1</td><td>2015-01-01</td><td>2024-05-27T11:38:36.000+0000</td><td>13.25</td><td>13.25</td><td>M</td><td>Classic</td><td>Sliced Ham, Pineapple, Mozzarella Cheese</td><td>The Hawaiian Pizza</td></tr><tr><td>2</td><td>2</td><td>classic_dlx_m</td><td>1</td><td>2015-01-01</td><td>2024-05-27T11:57:40.000+0000</td><td>16.0</td><td>16.0</td><td>M</td><td>Classic</td><td>Pepperoni, Mushrooms, Red Onions, Red Peppers, Bacon</td><td>The Classic Deluxe Pizza</td></tr><tr><td>3</td><td>2</td><td>five_cheese_l</td><td>1</td><td>2015-01-01</td><td>2024-05-27T11:57:40.000+0000</td><td>18.5</td><td>18.5</td><td>L</td><td>Veggie</td><td>Mozzarella Cheese, Provolone Cheese, Smoked Gouda Cheese, Romano Cheese, Blue Cheese, Garlic</td><td>The Five Cheese Pizza</td></tr><tr><td>4</td><td>2</td><td>ital_supr_l</td><td>1</td><td>2015-01-01</td><td>2024-05-27T11:57:40.000+0000</td><td>20.75</td><td>20.75</td><td>L</td><td>Supreme</td><td>Calabrese Salami, Capocollo, Tomatoes, Red Onions, Green Olives, Garlic</td><td>The Italian Supreme Pizza</td></tr><tr><td>5</td><td>2</td><td>mexicana_m</td><td>1</td><td>2015-01-01</td><td>2024-05-27T11:57:40.000+0000</td><td>16.0</td><td>16.0</td><td>M</td><td>Veggie</td><td>Tomatoes, Red Peppers, Jalapeno Peppers, Red Onions, Cilantro, Corn, Chipotle Sauce, Garlic</td><td>The Mexicana Pizza</td></tr></tbody></table></div>"
      ]
     },
     "metadata": {
      "application/vnd.databricks.v1+output": {
       "addedWidgets": {},
       "aggData": [],
       "aggError": "",
       "aggOverflow": false,
       "aggSchema": [],
       "aggSeriesLimitReached": false,
       "aggType": "",
       "arguments": {},
       "columnCustomDisplayInfos": {},
       "data": [
        [
         1,
         1,
         "hawaiian_m",
         1,
         "2015-01-01",
         "2024-05-27T11:38:36.000+0000",
         13.25,
         13.25,
         "M",
         "Classic",
         "Sliced Ham, Pineapple, Mozzarella Cheese",
         "The Hawaiian Pizza"
        ],
        [
         2,
         2,
         "classic_dlx_m",
         1,
         "2015-01-01",
         "2024-05-27T11:57:40.000+0000",
         16.0,
         16.0,
         "M",
         "Classic",
         "Pepperoni, Mushrooms, Red Onions, Red Peppers, Bacon",
         "The Classic Deluxe Pizza"
        ],
        [
         3,
         2,
         "five_cheese_l",
         1,
         "2015-01-01",
         "2024-05-27T11:57:40.000+0000",
         18.5,
         18.5,
         "L",
         "Veggie",
         "Mozzarella Cheese, Provolone Cheese, Smoked Gouda Cheese, Romano Cheese, Blue Cheese, Garlic",
         "The Five Cheese Pizza"
        ],
        [
         4,
         2,
         "ital_supr_l",
         1,
         "2015-01-01",
         "2024-05-27T11:57:40.000+0000",
         20.75,
         20.75,
         "L",
         "Supreme",
         "Calabrese Salami, Capocollo, Tomatoes, Red Onions, Green Olives, Garlic",
         "The Italian Supreme Pizza"
        ],
        [
         5,
         2,
         "mexicana_m",
         1,
         "2015-01-01",
         "2024-05-27T11:57:40.000+0000",
         16.0,
         16.0,
         "M",
         "Veggie",
         "Tomatoes, Red Peppers, Jalapeno Peppers, Red Onions, Cilantro, Corn, Chipotle Sauce, Garlic",
         "The Mexicana Pizza"
        ]
       ],
       "datasetInfos": [],
       "dbfsResultPath": null,
       "isJsonSchema": true,
       "metadata": {},
       "overflow": false,
       "plotOptions": {
        "customPlotOptions": {},
        "displayType": "table",
        "pivotAggregation": null,
        "pivotColumns": null,
        "xColumns": null,
        "yColumns": null
       },
       "removedWidgets": [],
       "schema": [
        {
         "metadata": "{}",
         "name": "order_details_id",
         "type": "\"integer\""
        },
        {
         "metadata": "{}",
         "name": "order_id",
         "type": "\"integer\""
        },
        {
         "metadata": "{}",
         "name": "pizza_id",
         "type": "\"string\""
        },
        {
         "metadata": "{}",
         "name": "quantity",
         "type": "\"integer\""
        },
        {
         "metadata": "{\"__detected_date_formats\":\"M/d/yyyy\"}",
         "name": "order_date",
         "type": "\"date\""
        },
        {
         "metadata": "{}",
         "name": "order_time",
         "type": "\"timestamp\""
        },
        {
         "metadata": "{}",
         "name": "unit_price",
         "type": "\"double\""
        },
        {
         "metadata": "{}",
         "name": "total_price",
         "type": "\"double\""
        },
        {
         "metadata": "{}",
         "name": "pizza_size",
         "type": "\"string\""
        },
        {
         "metadata": "{}",
         "name": "pizza_category",
         "type": "\"string\""
        },
        {
         "metadata": "{}",
         "name": "pizza_ingredients",
         "type": "\"string\""
        },
        {
         "metadata": "{}",
         "name": "pizza_name",
         "type": "\"string\""
        }
       ],
       "type": "table"
      }
     },
     "output_type": "display_data"
    }
   ],
   "source": [
    "%sql \n",
    "-- SQL in Databricks uses MySQL flavour query method\n",
    "SELECT * FROM pizza_sales_analysis LIMIT 5"
   ]
  },
  {
   "cell_type": "code",
   "execution_count": 0,
   "metadata": {
    "application/vnd.databricks.v1+cell": {
     "cellMetadata": {
      "byteLimit": 2048000,
      "implicitDf": true,
      "rowLimit": 10000
     },
     "inputWidgets": {},
     "nuid": "39564446-7828-426e-9c60-6ab8f83d5042",
     "showTitle": false,
     "title": ""
    }
   },
   "outputs": [
    {
     "output_type": "display_data",
     "data": {
      "text/html": [
       "<style scoped>\n",
       "  .table-result-container {\n",
       "    max-height: 300px;\n",
       "    overflow: auto;\n",
       "  }\n",
       "  table, th, td {\n",
       "    border: 1px solid black;\n",
       "    border-collapse: collapse;\n",
       "  }\n",
       "  th, td {\n",
       "    padding: 5px;\n",
       "  }\n",
       "  th {\n",
       "    text-align: left;\n",
       "  }\n",
       "</style><div class='table-result-container'><table class='table-result'><thead style='background-color: white'><tr><th>Order_id</th><th>Quantity</th><th>Month</th><th>Day_Of_Week</th><th>Order_Time</th><th>Unit_Price</th><th>Total_Sales</th><th>pizza_size</th><th>pizza_category</th><th>pizza_name</th></tr></thead><tbody><tr><td>2</td><td>2</td><td>Jun</td><td>Mon</td><td>19</td><td>33.0</td><td>33.0</td><td>M</td><td>Supreme</td><td>The Pepper Salami Pizza</td></tr><tr><td>3</td><td>3</td><td>Feb</td><td>Thu</td><td>12</td><td>55.5</td><td>55.5</td><td>L</td><td>Veggie</td><td>The Five Cheese Pizza</td></tr><tr><td>1</td><td>1</td><td>Feb</td><td>Tue</td><td>13</td><td>12.25</td><td>12.25</td><td>S</td><td>Supreme</td><td>The Sicilian Pizza</td></tr><tr><td>1</td><td>1</td><td>May</td><td>Mon</td><td>11</td><td>12.5</td><td>12.5</td><td>S</td><td>Supreme</td><td>The Spinach Supreme Pizza</td></tr><tr><td>1</td><td>1</td><td>Jun</td><td>Wed</td><td>21</td><td>20.25</td><td>20.25</td><td>L</td><td>Veggie</td><td>The Mexicana Pizza</td></tr><tr><td>2</td><td>2</td><td>May</td><td>Sat</td><td>18</td><td>40.5</td><td>40.5</td><td>L</td><td>Veggie</td><td>The Mediterranean Pizza</td></tr><tr><td>3</td><td>3</td><td>May</td><td>Sun</td><td>16</td><td>44.25</td><td>44.25</td><td>M</td><td>Veggie</td><td>The Four Cheese Pizza</td></tr></tbody></table></div>"
      ]
     },
     "metadata": {
      "application/vnd.databricks.v1+output": {
       "addedWidgets": {},
       "aggData": [],
       "aggError": "",
       "aggOverflow": false,
       "aggSchema": [],
       "aggSeriesLimitReached": false,
       "aggType": "",
       "arguments": {},
       "columnCustomDisplayInfos": {},
       "data": [
        [
         2,
         2,
         "Jun",
         "Mon",
         19,
         33.0,
         33.0,
         "M",
         "Supreme",
         "The Pepper Salami Pizza"
        ],
        [
         3,
         3,
         "Feb",
         "Thu",
         12,
         55.5,
         55.5,
         "L",
         "Veggie",
         "The Five Cheese Pizza"
        ],
        [
         1,
         1,
         "Feb",
         "Tue",
         13,
         12.25,
         12.25,
         "S",
         "Supreme",
         "The Sicilian Pizza"
        ],
        [
         1,
         1,
         "May",
         "Mon",
         11,
         12.5,
         12.5,
         "S",
         "Supreme",
         "The Spinach Supreme Pizza"
        ],
        [
         1,
         1,
         "Jun",
         "Wed",
         21,
         20.25,
         20.25,
         "L",
         "Veggie",
         "The Mexicana Pizza"
        ],
        [
         2,
         2,
         "May",
         "Sat",
         18,
         40.5,
         40.5,
         "L",
         "Veggie",
         "The Mediterranean Pizza"
        ],
        [
         3,
         3,
         "May",
         "Sun",
         16,
         44.25,
         44.25,
         "M",
         "Veggie",
         "The Four Cheese Pizza"
        ]
       ],
       "datasetInfos": [],
       "dbfsResultPath": null,
       "isJsonSchema": true,
       "metadata": {},
       "overflow": false,
       "plotOptions": {
        "customPlotOptions": {},
        "displayType": "table",
        "pivotAggregation": null,
        "pivotColumns": null,
        "xColumns": null,
        "yColumns": null
       },
       "removedWidgets": [],
       "schema": [
        {
         "metadata": "{}",
         "name": "Order_id",
         "type": "\"long\""
        },
        {
         "metadata": "{}",
         "name": "Quantity",
         "type": "\"long\""
        },
        {
         "metadata": "{}",
         "name": "Month",
         "type": "\"string\""
        },
        {
         "metadata": "{}",
         "name": "Day_Of_Week",
         "type": "\"string\""
        },
        {
         "metadata": "{}",
         "name": "Order_Time",
         "type": "\"integer\""
        },
        {
         "metadata": "{}",
         "name": "Unit_Price",
         "type": "\"double\""
        },
        {
         "metadata": "{}",
         "name": "Total_Sales",
         "type": "\"double\""
        },
        {
         "metadata": "{}",
         "name": "pizza_size",
         "type": "\"string\""
        },
        {
         "metadata": "{}",
         "name": "pizza_category",
         "type": "\"string\""
        },
        {
         "metadata": "{}",
         "name": "pizza_name",
         "type": "\"string\""
        }
       ],
       "type": "table"
      }
     },
     "output_type": "display_data"
    }
   ],
   "source": [
    "%sql \n",
    "--CREATE AGGREGATE TABLE FOR SPECIFIC REPORTING\n",
    "SELECT \n",
    "count(DISTINCT order_id) Order_id, \n",
    "sum(quantity) Quantity, \n",
    "date_format(order_date,'MMM') Month, \n",
    "date_format(order_date,'EEE') Day_Of_Week, \n",
    "hour(order_time) Order_Time, \n",
    "sum(unit_price) Unit_Price, \n",
    "sum(total_price) Total_Sales, \n",
    "pizza_size, \n",
    "pizza_category,\n",
    "pizza_name\n",
    "FROM pizza_sales_analysis\n",
    "GROUP BY 3,4,5,8,9,10\n",
    "LIMIT 7"
   ]
  },
  {
   "cell_type": "code",
   "execution_count": 0,
   "metadata": {
    "application/vnd.databricks.v1+cell": {
     "cellMetadata": {
      "byteLimit": 2048000,
      "implicitDf": true,
      "rowLimit": 10000
     },
     "inputWidgets": {},
     "nuid": "bf47f28a-8f29-4a4c-ab23-945cba9c0ac1",
     "showTitle": false,
     "title": ""
    }
   },
   "outputs": [
    {
     "output_type": "display_data",
     "data": {
      "text/html": [
       "<style scoped>\n",
       "  .table-result-container {\n",
       "    max-height: 300px;\n",
       "    overflow: auto;\n",
       "  }\n",
       "  table, th, td {\n",
       "    border: 1px solid black;\n",
       "    border-collapse: collapse;\n",
       "  }\n",
       "  th, td {\n",
       "    padding: 5px;\n",
       "  }\n",
       "  th {\n",
       "    text-align: left;\n",
       "  }\n",
       "</style><div class='table-result-container'><table class='table-result'><thead style='background-color: white'><tr><th>num_affected_rows</th><th>num_inserted_rows</th></tr></thead><tbody></tbody></table></div>"
      ]
     },
     "metadata": {
      "application/vnd.databricks.v1+output": {
       "addedWidgets": {},
       "aggData": [],
       "aggError": "",
       "aggOverflow": false,
       "aggSchema": [],
       "aggSeriesLimitReached": false,
       "aggType": "",
       "arguments": {},
       "columnCustomDisplayInfos": {},
       "data": [],
       "datasetInfos": [],
       "dbfsResultPath": null,
       "isJsonSchema": true,
       "metadata": {},
       "overflow": false,
       "plotOptions": {
        "customPlotOptions": {},
        "displayType": "table",
        "pivotAggregation": null,
        "pivotColumns": null,
        "xColumns": null,
        "yColumns": null
       },
       "removedWidgets": [],
       "schema": [
        {
         "metadata": "{}",
         "name": "num_affected_rows",
         "type": "\"long\""
        },
        {
         "metadata": "{}",
         "name": "num_inserted_rows",
         "type": "\"long\""
        }
       ],
       "type": "table"
      }
     },
     "output_type": "display_data"
    }
   ],
   "source": [
    "%sql \n",
    "--CREATE TABLE FROM THE ABOVE QUERY\n",
    "CREATE TABLE KPI_Table AS\n",
    "SELECT \n",
    "count(DISTINCT order_id) Order_id, \n",
    "sum(quantity) Quantity, \n",
    "date_format(order_date,'MMM') Month, \n",
    "date_format(order_date,'EEE') Day_Of_Week, \n",
    "hour(order_time) Order_Time, \n",
    "sum(unit_price) Unit_Price, \n",
    "sum(total_price) Total_Sales, \n",
    "pizza_size, \n",
    "pizza_category,\n",
    "pizza_name\n",
    "FROM pizza_sales_analysis\n",
    "GROUP BY 3,4,5,8,9,10\n"
   ]
  },
  {
   "cell_type": "code",
   "execution_count": 0,
   "metadata": {
    "application/vnd.databricks.v1+cell": {
     "cellMetadata": {
      "byteLimit": 2048000,
      "implicitDf": true,
      "rowLimit": 10000
     },
     "inputWidgets": {},
     "nuid": "c2e31cea-00c9-4a7b-a38b-1c11e79c1a7f",
     "showTitle": false,
     "title": ""
    }
   },
   "outputs": [
    {
     "output_type": "display_data",
     "data": {
      "text/html": [
       "<style scoped>\n",
       "  .table-result-container {\n",
       "    max-height: 300px;\n",
       "    overflow: auto;\n",
       "  }\n",
       "  table, th, td {\n",
       "    border: 1px solid black;\n",
       "    border-collapse: collapse;\n",
       "  }\n",
       "  th, td {\n",
       "    padding: 5px;\n",
       "  }\n",
       "  th {\n",
       "    text-align: left;\n",
       "  }\n",
       "</style><div class='table-result-container'><table class='table-result'><thead style='background-color: white'><tr><th>Order_id</th><th>Quantity</th><th>Month</th><th>Day_Of_Week</th><th>Order_Time</th><th>Unit_Price</th><th>Total_Sales</th><th>pizza_size</th><th>pizza_category</th><th>pizza_name</th></tr></thead><tbody><tr><td>2</td><td>2</td><td>Jun</td><td>Mon</td><td>19</td><td>33.0</td><td>33.0</td><td>M</td><td>Supreme</td><td>The Pepper Salami Pizza</td></tr><tr><td>3</td><td>3</td><td>Feb</td><td>Thu</td><td>12</td><td>55.5</td><td>55.5</td><td>L</td><td>Veggie</td><td>The Five Cheese Pizza</td></tr><tr><td>1</td><td>1</td><td>Feb</td><td>Tue</td><td>13</td><td>12.25</td><td>12.25</td><td>S</td><td>Supreme</td><td>The Sicilian Pizza</td></tr><tr><td>1</td><td>1</td><td>May</td><td>Mon</td><td>11</td><td>12.5</td><td>12.5</td><td>S</td><td>Supreme</td><td>The Spinach Supreme Pizza</td></tr><tr><td>1</td><td>1</td><td>Jun</td><td>Wed</td><td>21</td><td>20.25</td><td>20.25</td><td>L</td><td>Veggie</td><td>The Mexicana Pizza</td></tr><tr><td>2</td><td>2</td><td>May</td><td>Sat</td><td>18</td><td>40.5</td><td>40.5</td><td>L</td><td>Veggie</td><td>The Mediterranean Pizza</td></tr><tr><td>3</td><td>3</td><td>May</td><td>Sun</td><td>16</td><td>44.25</td><td>44.25</td><td>M</td><td>Veggie</td><td>The Four Cheese Pizza</td></tr><tr><td>1</td><td>1</td><td>May</td><td>Mon</td><td>12</td><td>16.0</td><td>16.0</td><td>M</td><td>Classic</td><td>The Classic Deluxe Pizza</td></tr><tr><td>3</td><td>4</td><td>Jan</td><td>Tue</td><td>13</td><td>60.75</td><td>81.0</td><td>L</td><td>Veggie</td><td>The Spinach and Feta Pizza</td></tr><tr><td>2</td><td>2</td><td>Apr</td><td>Sun</td><td>17</td><td>26.5</td><td>26.5</td><td>M</td><td>Classic</td><td>The Hawaiian Pizza</td></tr></tbody></table></div>"
      ]
     },
     "metadata": {
      "application/vnd.databricks.v1+output": {
       "addedWidgets": {},
       "aggData": [],
       "aggError": "",
       "aggOverflow": false,
       "aggSchema": [],
       "aggSeriesLimitReached": false,
       "aggType": "",
       "arguments": {},
       "columnCustomDisplayInfos": {},
       "data": [
        [
         2,
         2,
         "Jun",
         "Mon",
         19,
         33.0,
         33.0,
         "M",
         "Supreme",
         "The Pepper Salami Pizza"
        ],
        [
         3,
         3,
         "Feb",
         "Thu",
         12,
         55.5,
         55.5,
         "L",
         "Veggie",
         "The Five Cheese Pizza"
        ],
        [
         1,
         1,
         "Feb",
         "Tue",
         13,
         12.25,
         12.25,
         "S",
         "Supreme",
         "The Sicilian Pizza"
        ],
        [
         1,
         1,
         "May",
         "Mon",
         11,
         12.5,
         12.5,
         "S",
         "Supreme",
         "The Spinach Supreme Pizza"
        ],
        [
         1,
         1,
         "Jun",
         "Wed",
         21,
         20.25,
         20.25,
         "L",
         "Veggie",
         "The Mexicana Pizza"
        ],
        [
         2,
         2,
         "May",
         "Sat",
         18,
         40.5,
         40.5,
         "L",
         "Veggie",
         "The Mediterranean Pizza"
        ],
        [
         3,
         3,
         "May",
         "Sun",
         16,
         44.25,
         44.25,
         "M",
         "Veggie",
         "The Four Cheese Pizza"
        ],
        [
         1,
         1,
         "May",
         "Mon",
         12,
         16.0,
         16.0,
         "M",
         "Classic",
         "The Classic Deluxe Pizza"
        ],
        [
         3,
         4,
         "Jan",
         "Tue",
         13,
         60.75,
         81.0,
         "L",
         "Veggie",
         "The Spinach and Feta Pizza"
        ],
        [
         2,
         2,
         "Apr",
         "Sun",
         17,
         26.5,
         26.5,
         "M",
         "Classic",
         "The Hawaiian Pizza"
        ]
       ],
       "datasetInfos": [],
       "dbfsResultPath": null,
       "isJsonSchema": true,
       "metadata": {},
       "overflow": false,
       "plotOptions": {
        "customPlotOptions": {},
        "displayType": "table",
        "pivotAggregation": null,
        "pivotColumns": null,
        "xColumns": null,
        "yColumns": null
       },
       "removedWidgets": [],
       "schema": [
        {
         "metadata": "{}",
         "name": "Order_id",
         "type": "\"long\""
        },
        {
         "metadata": "{}",
         "name": "Quantity",
         "type": "\"long\""
        },
        {
         "metadata": "{}",
         "name": "Month",
         "type": "\"string\""
        },
        {
         "metadata": "{}",
         "name": "Day_Of_Week",
         "type": "\"string\""
        },
        {
         "metadata": "{}",
         "name": "Order_Time",
         "type": "\"integer\""
        },
        {
         "metadata": "{}",
         "name": "Unit_Price",
         "type": "\"double\""
        },
        {
         "metadata": "{}",
         "name": "Total_Sales",
         "type": "\"double\""
        },
        {
         "metadata": "{}",
         "name": "pizza_size",
         "type": "\"string\""
        },
        {
         "metadata": "{}",
         "name": "pizza_category",
         "type": "\"string\""
        },
        {
         "metadata": "{}",
         "name": "pizza_name",
         "type": "\"string\""
        }
       ],
       "type": "table"
      }
     },
     "output_type": "display_data"
    }
   ],
   "source": [
    "%sql\n",
    "SELECT * FROM KPI_Table LIMIT 10"
   ]
  },
  {
   "cell_type": "code",
   "execution_count": 0,
   "metadata": {
    "application/vnd.databricks.v1+cell": {
     "cellMetadata": {},
     "inputWidgets": {},
     "nuid": "563a724c-3cc0-47e4-b9f4-3d1f5c505916",
     "showTitle": false,
     "title": ""
    }
   },
   "outputs": [],
   "source": []
  }
 ],
 "metadata": {
  "application/vnd.databricks.v1+notebook": {
   "dashboards": [],
   "environmentMetadata": null,
   "language": "python",
   "notebookMetadata": {
    "mostRecentlyExecutedCommandWithImplicitDF": {
     "commandId": 1452809549480217,
     "dataframes": [
      "_sqldf"
     ]
    },
    "pythonIndentUnit": 4
   },
   "notebookName": "Azure_Data_Engineering_Project",
   "widgets": {}
  }
 },
 "nbformat": 4,
 "nbformat_minor": 0
}
